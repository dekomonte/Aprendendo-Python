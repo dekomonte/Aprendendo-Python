{
  "nbformat": 4,
  "nbformat_minor": 0,
  "metadata": {
    "colab": {
      "provenance": [],
      "collapsed_sections": [
        "5jXiQLT3XuZR",
        "U1qCdtkbUaA-",
        "Xadq50IzX9Z-",
        "y-pRWEH1Zc9y"
      ],
      "authorship_tag": "ABX9TyNM+p9UpsIh0b0lrSLOWVDU",
      "include_colab_link": true
    },
    "kernelspec": {
      "name": "python3",
      "display_name": "Python 3"
    },
    "language_info": {
      "name": "python"
    }
  },
  "cells": [
    {
      "cell_type": "markdown",
      "metadata": {
        "id": "view-in-github",
        "colab_type": "text"
      },
      "source": [
        "<a href=\"https://colab.research.google.com/github/dekomonte/Aprendendo-Python/blob/main/Caderno1.ipynb\" target=\"_parent\"><img src=\"https://colab.research.google.com/assets/colab-badge.svg\" alt=\"Open In Colab\"/></a>"
      ]
    },
    {
      "cell_type": "markdown",
      "source": [
        "#Estudos PYTHON e MACHINE LEARNING\n",
        "\n",
        "Caderno 1\n",
        "\n",
        "Vou deixar anotado no Colab algumas notas de aula sobre Python e Machine Learning dos cursos que irei fazer. Caso seja necessário, irei deixar códigos em outras plataformas."
      ],
      "metadata": {
        "id": "ag7S3py9eAPT"
      }
    },
    {
      "cell_type": "code",
      "execution_count": 23,
      "metadata": {
        "colab": {
          "base_uri": "https://localhost:8080/"
        },
        "id": "D_-Ac4HADRZs",
        "outputId": "301ce5d9-d817-4220-d77d-84733358a8b6"
      },
      "outputs": [
        {
          "output_type": "stream",
          "name": "stdout",
          "text": [
            "Hello World!\n"
          ]
        }
      ],
      "source": [
        "print(\"Hello World!\")"
      ]
    },
    {
      "cell_type": "markdown",
      "source": [
        "# Introdução - Machine Learning\n",
        "\n",
        "* Conceito informal: treinar uma máquina com um BD gigante para prever novas situações\n",
        "\n",
        "* Supervisionado x Não Supervisionado\n",
        "* Supervisionado: exemplos rotulados (Classsificação)\n",
        "* Não Supervisionado: exemplos não-rotulados (Regressão)"
      ],
      "metadata": {
        "id": "e43PnMmLxfbD"
      }
    },
    {
      "cell_type": "markdown",
      "source": [
        "# Introdução - Python\n"
      ],
      "metadata": {
        "id": "AYPTEKXeSb5S"
      }
    },
    {
      "cell_type": "markdown",
      "source": [
        "## Declaração de Variáveis\n",
        "\n",
        "A declaração de variáveis é implícita;"
      ],
      "metadata": {
        "id": "5jXiQLT3XuZR"
      }
    },
    {
      "cell_type": "code",
      "source": [
        "x = 2; #Inteiro\n",
        "y = 3.6; #Ponto Flutuante\n",
        "nome = \"Andressa\"; #String\n",
        "sentenca = True; #Booleano\n",
        "\n",
        "print(nome)\n",
        "type(sentenca)\n",
        "\n",
        "#Entrada de valores: z é uma String\n",
        "z = input(\"Informe a idade: \")\n",
        "print(\"A idade é: \",z)\n",
        "w = int(z) #Mudando o tipo\n",
        "print(w)"
      ],
      "metadata": {
        "colab": {
          "base_uri": "https://localhost:8080/"
        },
        "id": "FRVKEmzGSo4a",
        "outputId": "7f24b93e-5d17-4bb6-f4b1-5077ac6777ba"
      },
      "execution_count": 8,
      "outputs": [
        {
          "output_type": "stream",
          "name": "stdout",
          "text": [
            "Andressa\n",
            "Informe a idade: 25\n",
            "A idade é:  25\n",
            "25\n"
          ]
        }
      ]
    },
    {
      "cell_type": "markdown",
      "source": [
        "## Estrutura de Decisão\n",
        "\n",
        "Estrutura de decisão: a identação é importante;"
      ],
      "metadata": {
        "id": "U1qCdtkbUaA-"
      }
    },
    {
      "cell_type": "code",
      "source": [
        "nota = 8;\n",
        "\n",
        "if (nota >= 7):\n",
        "  print(\"Aprovado!\")\n",
        "elif (nota >= 5 and nota < 7):\n",
        "  print(\"Recuperação!\")\n",
        "else:\n",
        "  print(\"Reprovado!\")\n",
        "\n",
        "#Operadores lógicos: and, or e not;"
      ],
      "metadata": {
        "colab": {
          "base_uri": "https://localhost:8080/"
        },
        "id": "sIXxuyXsVJDi",
        "outputId": "32ef0ae7-6743-46bb-940f-9fd02161c246"
      },
      "execution_count": 12,
      "outputs": [
        {
          "output_type": "stream",
          "name": "stdout",
          "text": [
            "Aprovado!\n"
          ]
        }
      ]
    },
    {
      "cell_type": "markdown",
      "source": [
        "## Estruturas de Repetição"
      ],
      "metadata": {
        "id": "Xadq50IzX9Z-"
      }
    },
    {
      "cell_type": "code",
      "source": [
        "#while\n",
        "cont=1;\n",
        "while (cont<10):\n",
        "  print(cont);\n",
        "  cont+=1;"
      ],
      "metadata": {
        "colab": {
          "base_uri": "https://localhost:8080/"
        },
        "id": "mGjJ4HyBYGO7",
        "outputId": "523a1560-b082-4bd3-cdf0-b0406b00737e"
      },
      "execution_count": 14,
      "outputs": [
        {
          "output_type": "stream",
          "name": "stdout",
          "text": [
            "1\n",
            "2\n",
            "3\n",
            "4\n",
            "5\n",
            "6\n",
            "7\n",
            "8\n",
            "9\n"
          ]
        }
      ]
    },
    {
      "cell_type": "code",
      "source": [
        "#for\n",
        "#Perceber que o loop vai até n-1\n",
        "#No range: início, parada, incremento\n",
        "for n in range (0,10):\n",
        "  print(n);"
      ],
      "metadata": {
        "colab": {
          "base_uri": "https://localhost:8080/"
        },
        "id": "gTGenHwCYVy5",
        "outputId": "cfac0330-b727-43e7-ba7c-bede0bc11119"
      },
      "execution_count": 15,
      "outputs": [
        {
          "output_type": "stream",
          "name": "stdout",
          "text": [
            "0\n",
            "1\n",
            "2\n",
            "3\n",
            "4\n",
            "5\n",
            "6\n",
            "7\n",
            "8\n",
            "9\n"
          ]
        }
      ]
    },
    {
      "cell_type": "code",
      "source": [
        "#Os comandos break e continue também são utilizados em estruturas de repetição"
      ],
      "metadata": {
        "id": "dclgrnG6ZFLh"
      },
      "execution_count": 17,
      "outputs": []
    },
    {
      "cell_type": "markdown",
      "source": [
        "# Estruturas de Dados - Python"
      ],
      "metadata": {
        "id": "YLwar3xjZZK5"
      }
    },
    {
      "cell_type": "markdown",
      "source": [
        "## Listas\n",
        "\n",
        "* Vetores;\n",
        "* Dados não precisam ser do mesmo tipo;"
      ],
      "metadata": {
        "id": "y-pRWEH1Zc9y"
      }
    },
    {
      "cell_type": "code",
      "source": [
        "lista = [1,2,3,4];\n",
        "lista2 = [\"Andressa\", 2, \"pão\"]\n",
        "print(lista2)\n",
        "\n",
        "lista3 = list(range(0,10))\n",
        "print(lista3)\n",
        "\n",
        "#Primeiro elemento da lista é indexado em 0\n",
        "print(lista3[0])\n",
        "tam = len(lista)\n",
        "print(tam)"
      ],
      "metadata": {
        "colab": {
          "base_uri": "https://localhost:8080/"
        },
        "id": "s2GPEjdrZ9Pj",
        "outputId": "661ae473-014c-4422-e0e9-c826aa948e42"
      },
      "execution_count": 22,
      "outputs": [
        {
          "output_type": "stream",
          "name": "stdout",
          "text": [
            "['Andressa', 2, 'pão']\n",
            "[0, 1, 2, 3, 4, 5, 6, 7, 8, 9]\n",
            "0\n",
            "4\n"
          ]
        }
      ]
    }
  ]
}